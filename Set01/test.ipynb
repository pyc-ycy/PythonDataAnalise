{
 "cells": [
  {
   "cell_type": "code",
   "execution_count": 1,
   "outputs": [
    {
     "name": "stdout",
     "text": [
      "0:\t0.000000\t1.000000\n",
      "\n",
      "0:\t0.000000\t1.000000\n",
      "\n",
      "2:\t0.200000\t1.006623\n",
      "\n",
      "3:\t0.300000\t1.019612\n",
      "\n",
      "4:\t0.400000\t1.038497\n",
      "\n",
      "5:\t0.500000\t1.062655\n",
      "\n",
      "6:\t0.600000\t1.091387\n",
      "\n",
      "7:\t0.700000\t1.123981\n",
      "\n",
      "8:\t0.800000\t1.159764\n",
      "\n",
      "9:\t0.900000\t1.198126\n",
      "\n",
      "10:\t1.000000\t1.238538\n",
      "\n"
     ],
     "output_type": "stream"
    }
   ],
   "source": [
    "x=[0.0,0.1,0.2,0.3,0.4,0.5,0.6,0.7,0.8,0.9,1.0]\n",
    "y=[1.0]\n",
    "for i in range(0,10,1):\n",
    "    t1 = y[i]+0.1*(2/3*x[i]*y[i]**(-2))\n",
    "    t2 = y[i] + 0.1*(2/3*x[i]*t1**(-2))\n",
    "    t=(t1+t2)/2\n",
    "    y.append(t)\n",
    "for k in y:\n",
    "    print(\"%d:\\t%f\\t%f\\n\"% (y.index(k),x[y.index(k)],k))"
   ],
   "metadata": {
    "collapsed": false,
    "pycharm": {
     "name": "#%%\n",
     "is_executing": false
    }
   }
  },
  {
   "cell_type": "code",
   "execution_count": 2,
   "outputs": [
    {
     "name": "stdout",
     "text": [
      "0:\t0.000000\t1.000000\n",
      "\n",
      "\n",
      "0:\t0.000000\t1.000000\n",
      "\n",
      "\n",
      "2:\t0.200000\t1.006667\n",
      "\n",
      "\n",
      "3:\t0.300000\t1.019824\n",
      "\n",
      "\n",
      "4:\t0.400000\t1.039054\n",
      "\n",
      "\n",
      "5:\t0.500000\t1.063754\n",
      "\n",
      "\n",
      "6:\t0.600000\t1.093211\n",
      "\n",
      "\n",
      "7:\t0.700000\t1.126681\n",
      "\n",
      "\n",
      "8:\t0.800000\t1.163443\n",
      "\n",
      "\n",
      "9:\t0.900000\t1.202845\n",
      "\n",
      "\n",
      "10:\t1.000000\t1.244314\n",
      "\n",
      "\n"
     ],
     "output_type": "stream"
    }
   ],
   "source": [
    "xi=[0.0,0.1,0.2,0.3,0.4,0.5,0.6,0.7,0.8,0.9,1.0]\n",
    "yi=[1.0]\n",
    "for i in range(0,10,1):\n",
    "    t = yi[i]+0.1*(2/3*xi[i]*(yi[i]**(-2)))\n",
    "    yi.append(t)\n",
    "for k in yi:\n",
    "    print(\"%d:\\t%f\\t%f\" % (yi.index(k),xi[yi.index(k)],k))\n",
    "    print('\\n')"
   ],
   "metadata": {
    "collapsed": false,
    "pycharm": {
     "name": "#%%\n",
     "is_executing": false
    }
   }
  },
  {
   "cell_type": "markdown",
   "source": [
    "# 一级标题\n",
    "\n"
   ],
   "metadata": {
    "collapsed": false
   }
  }
 ],
 "metadata": {
  "kernelspec": {
   "display_name": "Python 3",
   "language": "python",
   "name": "python3"
  },
  "language_info": {
   "codemirror_mode": {
    "name": "ipython",
    "version": 2
   },
   "file_extension": ".py",
   "mimetype": "text/x-python",
   "name": "python",
   "nbconvert_exporter": "python",
   "pygments_lexer": "ipython2",
   "version": "2.7.6"
  },
  "pycharm": {
   "stem_cell": {
    "cell_type": "raw",
    "source": [],
    "metadata": {
     "collapsed": false
    }
   }
  }
 },
 "nbformat": 4,
 "nbformat_minor": 0
}